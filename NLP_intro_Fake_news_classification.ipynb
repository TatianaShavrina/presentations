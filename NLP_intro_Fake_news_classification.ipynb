{
  "nbformat": 4,
  "nbformat_minor": 0,
  "metadata": {
    "colab": {
      "name": "NLP_intro_Fake_news_classification.ipynb",
      "provenance": [],
      "collapsed_sections": [],
      "authorship_tag": "ABX9TyNMDFCpYegmEr+WWMfI7crN",
      "include_colab_link": true
    },
    "kernelspec": {
      "name": "python3",
      "display_name": "Python 3"
    }
  },
  "cells": [
    {
      "cell_type": "markdown",
      "metadata": {
        "id": "view-in-github",
        "colab_type": "text"
      },
      "source": [
        "<a href=\"https://colab.research.google.com/github/TatianaShavrina/presentations/blob/master/NLP_intro_Fake_news_classification.ipynb\" target=\"_parent\"><img src=\"https://colab.research.google.com/assets/colab-badge.svg\" alt=\"Open In Colab\"/></a>"
      ]
    },
    {
      "cell_type": "markdown",
      "metadata": {
        "id": "eWErHC61lFWp"
      },
      "source": [
        "## Классификация новостей: настоящие или фейк-ньюз?\n",
        "\n",
        "Давайте посмотрим, сможет ли алгоритм отличить настоящие новости от фейков.\n",
        "\n",
        "Для этого мы будем загружать уже размеченные данные из [репозитория](https://github.com/TatianaShavrina/presentations), изучим их состав и проверим, что же получается у машины."
      ]
    },
    {
      "cell_type": "markdown",
      "metadata": {
        "id": "vCDn0B-1lzfV"
      },
      "source": [
        "## Шаг 1 - импортируем код, который понадобится"
      ]
    },
    {
      "cell_type": "code",
      "metadata": {
        "id": "Z0TdwIe8jZxA",
        "colab": {
          "base_uri": "https://localhost:8080/"
        },
        "outputId": "1fb866c1-6ff0-48e6-ca3f-9c5c50c8383a"
      },
      "source": [
        "import pandas as pd\n",
        "from sklearn.utils import shuffle\n",
        "import numpy as np\n",
        "import matplotlib.pyplot as plt\n",
        "import seaborn as sns\n",
        "%pylab inline\n",
        "from sklearn.feature_extraction.text import *\n",
        "from sklearn.metrics import *\n",
        "from sklearn.pipeline import Pipeline\n",
        "from sklearn.linear_model import LogisticRegression\n",
        "from sklearn.model_selection import train_test_split\n",
        "from sklearn.feature_extraction.text import CountVectorizer, TfidfTransformer"
      ],
      "execution_count": 17,
      "outputs": [
        {
          "output_type": "stream",
          "text": [
            "Populating the interactive namespace from numpy and matplotlib\n"
          ],
          "name": "stdout"
        },
        {
          "output_type": "stream",
          "text": [
            "/usr/local/lib/python3.7/dist-packages/IPython/core/magics/pylab.py:161: UserWarning: pylab import has clobbered these variables: ['text', 'shuffle', 'clf']\n",
            "`%matplotlib` prevents importing * from pylab and numpy\n",
            "  \"\\n`%matplotlib` prevents importing * from pylab and numpy\"\n"
          ],
          "name": "stderr"
        }
      ]
    },
    {
      "cell_type": "markdown",
      "metadata": {
        "id": "0swzkVjel_-w"
      },
      "source": [
        "## Шаг 2 - загрузка данных"
      ]
    },
    {
      "cell_type": "code",
      "metadata": {
        "id": "K5MmFPFaZbRb"
      },
      "source": [
        "url = 'https://raw.githubusercontent.com/TatianaShavrina/presentations/master/CDTO/gold.csv'\n",
        "\n",
        "data = pd.read_csv(url, sep='\\t')"
      ],
      "execution_count": 18,
      "outputs": []
    },
    {
      "cell_type": "markdown",
      "metadata": {
        "id": "ceRk12OfmCdw"
      },
      "source": [
        "## Шаг 3 - анализ данных\n",
        "\n",
        "Что в данных, которые мы загружаем? Посмотрим на первые 5 строк таблицы"
      ]
    },
    {
      "cell_type": "code",
      "metadata": {
        "id": "FExWKwVmZgrf",
        "colab": {
          "base_uri": "https://localhost:8080/",
          "height": 204
        },
        "outputId": "add4bada-6fe8-48c7-cebf-940b01c9cb71"
      },
      "source": [
        "data.head()"
      ],
      "execution_count": 19,
      "outputs": [
        {
          "output_type": "execute_result",
          "data": {
            "text/html": [
              "<div>\n",
              "<style scoped>\n",
              "    .dataframe tbody tr th:only-of-type {\n",
              "        vertical-align: middle;\n",
              "    }\n",
              "\n",
              "    .dataframe tbody tr th {\n",
              "        vertical-align: top;\n",
              "    }\n",
              "\n",
              "    .dataframe thead th {\n",
              "        text-align: right;\n",
              "    }\n",
              "</style>\n",
              "<table border=\"1\" class=\"dataframe\">\n",
              "  <thead>\n",
              "    <tr style=\"text-align: right;\">\n",
              "      <th></th>\n",
              "      <th>text</th>\n",
              "      <th>class</th>\n",
              "    </tr>\n",
              "  </thead>\n",
              "  <tbody>\n",
              "    <tr>\n",
              "      <th>0</th>\n",
              "      <td>Британское министерство информации приняло дек...</td>\n",
              "      <td>fake</td>\n",
              "    </tr>\n",
              "    <tr>\n",
              "      <th>1</th>\n",
              "      <td>Альбом \"Chief\" кантри-исполнителя Эрика Черча ...</td>\n",
              "      <td>true</td>\n",
              "    </tr>\n",
              "    <tr>\n",
              "      <th>2</th>\n",
              "      <td>Новый вид микрокредитных организаций появился ...</td>\n",
              "      <td>fake</td>\n",
              "    </tr>\n",
              "    <tr>\n",
              "      <th>3</th>\n",
              "      <td>Один из крупнейших торговых комплексов Москвы ...</td>\n",
              "      <td>fake</td>\n",
              "    </tr>\n",
              "    <tr>\n",
              "      <th>4</th>\n",
              "      <td>Министерство обороны Белоруссии приостановила ...</td>\n",
              "      <td>true</td>\n",
              "    </tr>\n",
              "  </tbody>\n",
              "</table>\n",
              "</div>"
            ],
            "text/plain": [
              "                                                text class\n",
              "0  Британское министерство информации приняло дек...  fake\n",
              "1  Альбом \"Chief\" кантри-исполнителя Эрика Черча ...  true\n",
              "2  Новый вид микрокредитных организаций появился ...  fake\n",
              "3  Один из крупнейших торговых комплексов Москвы ...  fake\n",
              "4  Министерство обороны Белоруссии приостановила ...  true"
            ]
          },
          "metadata": {
            "tags": []
          },
          "execution_count": 19
        }
      ]
    },
    {
      "cell_type": "markdown",
      "metadata": {
        "id": "YcEFLEhSmKTU"
      },
      "source": [
        "Видим, что у нас есть колонка class - посмотрим, какие классы размечены, и сколько примеров каждого класса в таблице:"
      ]
    },
    {
      "cell_type": "code",
      "metadata": {
        "id": "G1_b3xPSkl_F",
        "colab": {
          "base_uri": "https://localhost:8080/"
        },
        "outputId": "f6a2db36-19de-4f73-fe78-af9dc44fcdc7"
      },
      "source": [
        "data['class'].value_counts()"
      ],
      "execution_count": 20,
      "outputs": [
        {
          "output_type": "execute_result",
          "data": {
            "text/plain": [
              "true    4974\n",
              "fake    1050\n",
              "Name: class, dtype: int64"
            ]
          },
          "metadata": {
            "tags": []
          },
          "execution_count": 20
        }
      ]
    },
    {
      "cell_type": "markdown",
      "metadata": {
        "id": "SlU-uNvAmZNa"
      },
      "source": [
        "Всего фейков 1050 штуки - немного! Хотелось бы на какой-нибудь посмотреть:\n"
      ]
    },
    {
      "cell_type": "code",
      "metadata": {
        "id": "I5d5UddMm_E-",
        "colab": {
          "base_uri": "https://localhost:8080/"
        },
        "outputId": "685865a0-eead-42e0-9a7c-b0a85f795b27"
      },
      "source": [
        "print(data[data['class']=='fake'].iloc[2].to_dict())"
      ],
      "execution_count": 21,
      "outputs": [
        {
          "output_type": "stream",
          "text": [
            "{'text': 'Один из крупнейших торговых комплексов Москвы Садовод будет включён в список культурного наследия ЮНЕСКО. К такому выводу пришла комиссия ООН по вопросам образования науки и культуры после инспекции самого большого оптового рынка России.\\nНесмотря на неидеальную чистоту следует отметить необычайный мультикультурализм заложенный здесь на протяжении десятилетий. Все континенты сливаются в один а народы общаются друг с другом как братья. При этом нет никаких этнических расовых и религиозных конфликтов. Надеюсь в будущем такие центры появятся в Берлине Париже Лондоне и других мировых мегаполисах  поделилась впечатлениями от посещения рынка инспектор ООН Жаннет Лаврин.\\nАдминистрация Садовода с воодушевлением восприняла радостную для себя новость и в связи с обретением почётного статуса объявила шашлычную неделю в рамках которой хозяева обещают побаловать покупателей шашлыка щедрыми скидками. Мэрия Москвы уже объявила конкурс на создание памятной таблички с логотипом ЮНЕСКО.\\n', 'class': 'fake'}\n"
          ],
          "name": "stdout"
        }
      ]
    },
    {
      "cell_type": "markdown",
      "metadata": {
        "id": "SRjlCDq3nTfv"
      },
      "source": [
        "Еще пример:"
      ]
    },
    {
      "cell_type": "code",
      "metadata": {
        "id": "nyF7BPq4nVR0",
        "colab": {
          "base_uri": "https://localhost:8080/"
        },
        "outputId": "72a799aa-5230-44d9-be37-840d54fe4ac8"
      },
      "source": [
        "print(data[data['class']=='fake'].iloc[5].to_dict())"
      ],
      "execution_count": 22,
      "outputs": [
        {
          "output_type": "stream",
          "text": [
            "{'text': 'Губернатор Хакасии Валентин Коновалов объявил о новом формате празднования Нового года в республике. По мнению главы региона праздник необходимо встретить в коммунистическом формате а 1 января сделать днём старта новой пятилетки.\\nДля поддержания праздничной атмосферы на центральной площади Абакана пройдут костюмированные шествия пролетариата с демонстрацией коммунистической символики  серпа и молота. Деды Морозы облачатся в одеяния с символикой КПРФ и будут дарить детям пионерские галстуки значки юного октябрёнка а также агитационные материалы. Родители за символическую сумму в 100 рублей смогут получить корочку члена Компартии.\\nУвлекательной будет и творческая программа. Гостей площади Ленина ожидают лучшие выступления партийных деятелей Компартии также из динамиков прозвучат популярные советские песни в исполнении Клавдии Шульженко Лидии Руслановой Иосифа Кобзона и множества знаменитых советских артистов.\\nЗавершит празднование новогоднее поздравление Иосифа Сталина после чего в полночь прозвучит песня И вновь продолжается бой. Также в республике состоятся Дзержинские утренники на которых детям расскажут о борьбе с беспризорностью под руководством основателя ВЧК Феликса Дзержинского.\\n', 'class': 'fake'}\n"
          ],
          "name": "stdout"
        }
      ]
    },
    {
      "cell_type": "markdown",
      "metadata": {
        "id": "pK6Gd_kqncMf"
      },
      "source": [
        "Чтобы обучить алгоритм различать фейки и реальные новости, заранее подготовим наши примеры: отделим 10% всех данных, чтобы машина их не увидела, и оставим их для тестирования.\n",
        "\n",
        "Будем использовать переменные X и y, где  X - это тексты, а y - это класс."
      ]
    },
    {
      "cell_type": "code",
      "metadata": {
        "id": "pPisjfmvkpTi"
      },
      "source": [
        "y = data[\"class\"]\n",
        "X = data[\"text\"]\n",
        "X_train, X_test, y_train, y_test = train_test_split(X, y, test_size=0.1, random_state=42)"
      ],
      "execution_count": 24,
      "outputs": []
    },
    {
      "cell_type": "markdown",
      "metadata": {
        "id": "Sn5NFIrXn085"
      },
      "source": [
        "## Шаг 4 - обучение\n",
        "\n",
        "в качестве самого простого классификатора возьмем Логистическую регрессию\n",
        "Ей будут подаваться тексты в списка слов, и у каждого слова можель найдет его вес важности для класса. На основании всех слов текста модель будет решать, является ли новость настоящей."
      ]
    },
    {
      "cell_type": "code",
      "metadata": {
        "id": "3UBQzdhYuDzH"
      },
      "source": [
        "def tokenizer(text):\n",
        "    text = re.sub('\\n', '', text)\n",
        "    text = re.sub('\\t', '', text)\n",
        "    text = re.sub('\\s', ' ', text)\n",
        "    text = re.sub('[\\.\\,\\-\\!\\?;:\\(\\)]', '', text)\n",
        "    return text.lower().split()"
      ],
      "execution_count": 25,
      "outputs": []
    },
    {
      "cell_type": "code",
      "metadata": {
        "id": "pZuwhYVPkruZ"
      },
      "source": [
        "clf = Pipeline([\n",
        "    ('vect', CountVectorizer(ngram_range=(1,3), analyzer='word', max_features=200, tokenizer=tokenizer)),\n",
        "    ('tfidf', TfidfTransformer(sublinear_tf=True)),\n",
        "    ('clf', LogisticRegression(random_state=42)   ),\n",
        "    ])"
      ],
      "execution_count": 26,
      "outputs": []
    },
    {
      "cell_type": "code",
      "metadata": {
        "id": "UY1OV9ZlS8FU"
      },
      "source": [
        "clf.fit(X_train, y_train)\n",
        "predictions = clf.predict(X_test)"
      ],
      "execution_count": 27,
      "outputs": []
    },
    {
      "cell_type": "code",
      "metadata": {
        "id": "GvIpfVWekuCP",
        "colab": {
          "base_uri": "https://localhost:8080/",
          "height": 502
        },
        "outputId": "be76d48d-e109-437b-d5ef-bcd568b61b4f"
      },
      "source": [
        "print(\"Точность классификации: {0:6.2f}\".format(precision_score(y_test, predictions, average='macro')))\n",
        "print(\"Полнота: {0:6.2f}\".format(recall_score(y_test, predictions, average='macro')))\n",
        "print(\"F1-мера: {0:6.2f}\".format(f1_score(y_test, predictions, average='macro')))\n",
        "print(\"Всего % правильных ответов: {0:6.2f}\".format(accuracy_score(y_test, predictions)))\n",
        "print(classification_report(y_test, predictions))\n",
        "labels = clf.classes_\n",
        "sns.heatmap(data=confusion_matrix(y_test, predictions), annot=True, fmt=\"d\", cbar=False, xticklabels=labels, yticklabels=labels)\n",
        "plt.title(\"Матрица ошибок\")\n",
        "plt.show()"
      ],
      "execution_count": 28,
      "outputs": [
        {
          "output_type": "stream",
          "text": [
            "Точность классификации:   0.95\n",
            "Полнота:   0.91\n",
            "F1-мера:   0.93\n",
            "Всего % правильных ответов:   0.96\n",
            "              precision    recall  f1-score   support\n",
            "\n",
            "        fake       0.94      0.83      0.88       103\n",
            "        true       0.96      0.99      0.98       500\n",
            "\n",
            "    accuracy                           0.96       603\n",
            "   macro avg       0.95      0.91      0.93       603\n",
            "weighted avg       0.96      0.96      0.96       603\n",
            "\n"
          ],
          "name": "stdout"
        },
        {
          "output_type": "display_data",
          "data": {
            "image/png": "[encoded data removed]",
            "text/plain": [
              "<Figure size 432x288 with 1 Axes>"
            ]
          },
          "metadata": {
            "tags": [],
            "needs_background": "light"
          }
        }
      ]
    },
    {
      "cell_type": "markdown",
      "metadata": {
        "id": "y9OJ_qZNoN0Z"
      },
      "source": [
        "## Шаг 5 - анализ результатов\n",
        "\n",
        "Выше мы видим метрики, полученные в результате обучения.\n",
        "Кажется, они достаточно неплохие. Давайте проверим на практике:\n",
        "выведем пример и заставим модель предстазать его класс."
      ]
    },
    {
      "cell_type": "code",
      "metadata": {
        "id": "37KrOApuUAQh",
        "colab": {
          "base_uri": "https://localhost:8080/",
          "height": 35
        },
        "outputId": "82b88b0e-afc8-4eed-e413-7a542a744442"
      },
      "source": [
        "text = '''Крымские виноделы прекратят использование аммиачной селитры для производства продукции\n",
        "\n",
        "Крымский производитель вин «Массандра» получит дотацию в 15 миллионов рублей из государственного бюджета для отказа от использования в будущем аммиачной селитры на производстве.\n",
        "Ежегодно около 5 тысяч тонн аммиачной селитры используются как удобрение для виноградников, около 500 килограмм – в производстве пробок для шампанского. Взрыв на складе в Бейруте вынудил &quot;Массандру&quot; задуматься о мерах безопасности, что поставило компанию в трудное положение.\n",
        "«В новых условиях сохранить наше производство и качество продукта без повышения цены было бы невозможно. Виноград может расти и сам, но и человеческий ресурс вместе с ним неумолимо растёт. Да и пробка из бутылки шампанского сама по себе не вылетит, нужно придумывать новые методы и технологии», — заявил директор отдела маркетинга «Массандры» Ицхак Рубенштейн.'''\n",
        "clf.predict([text])[0]"
      ],
      "execution_count": 29,
      "outputs": [
        {
          "output_type": "execute_result",
          "data": {
            "application/vnd.google.colaboratory.intrinsic+json": {
              "type": "string"
            },
            "text/plain": [
              "'true'"
            ]
          },
          "metadata": {
            "tags": []
          },
          "execution_count": 29
        }
      ]
    },
    {
      "cell_type": "code",
      "metadata": {
        "id": "CVb56fnaVIIV",
        "colab": {
          "base_uri": "https://localhost:8080/",
          "height": 35
        },
        "outputId": "8eb02f0c-5514-46bc-89da-92fb65560bb6"
      },
      "source": [
        "text = '''Сервис «Яндекса» Алиса заменит часть педагогов в новом учебном году\n",
        "Министерство просвещения приняло новую программу оптимизации кадров в учебных заведениях. Поскольку в новом учебном году запланировано значительное уменьшение количества часов в школах пройдут массовые сокращения. Чтобы последствия этого процесса не отразились на качестве образования в ведомстве предложили заменить уволенных учителей отечественным голосовым помощником «Яндекс. Алиса».'''\n",
        "clf.predict([text])[0]"
      ],
      "execution_count": 30,
      "outputs": [
        {
          "output_type": "execute_result",
          "data": {
            "application/vnd.google.colaboratory.intrinsic+json": {
              "type": "string"
            },
            "text/plain": [
              "'true'"
            ]
          },
          "metadata": {
            "tags": []
          },
          "execution_count": 30
        }
      ]
    },
    {
      "cell_type": "markdown",
      "metadata": {
        "id": "j3lietlRV2jC"
      },
      "source": [
        "В примере ниже можно поменять текст на любой другой и проверить - сможет ли его корректно обработать модель?"
      ]
    },
    {
      "cell_type": "code",
      "metadata": {
        "id": "OuSngSxxWI8w",
        "colab": {
          "base_uri": "https://localhost:8080/",
          "height": 35
        },
        "outputId": "c5e41557-ac25-4107-8bde-728052a4d187"
      },
      "source": [
        "text = '''пример текста'''\n",
        "clf.predict([text])[0]"
      ],
      "execution_count": 31,
      "outputs": [
        {
          "output_type": "execute_result",
          "data": {
            "application/vnd.google.colaboratory.intrinsic+json": {
              "type": "string"
            },
            "text/plain": [
              "'true'"
            ]
          },
          "metadata": {
            "tags": []
          },
          "execution_count": 31
        }
      ]
    },
    {
      "cell_type": "markdown",
      "metadata": {
        "id": "bnCzpGyOzPu_"
      },
      "source": [
        "## Шаг 6 - посмотрим самые важные признаки"
      ]
    },
    {
      "cell_type": "code",
      "metadata": {
        "id": "rkU_XONgxUtD"
      },
      "source": [
        "from sklearn.svm import LinearSVC\n",
        "import matplotlib.pyplot as plt\n",
        "def plot_coefficients(classifier, feature_names, top_features=20):\n",
        "  coef = classifier.coef_.ravel()\n",
        "  top_positive_coefficients = np.argsort(coef)[-top_features:]\n",
        "  top_negative_coefficients = np.argsort(coef)[:top_features]\n",
        "  top_coefficients = np.hstack([top_negative_coefficients, top_positive_coefficients])\n",
        "  # create plot\n",
        "  plt.figure(figsize=(25, 10))\n",
        "  colors = ['red' if c < 0 else 'blue' for c in coef[top_coefficients]]\n",
        "  plt.bar(np.arange(2 * top_features), coef[top_coefficients], color=colors)\n",
        "  feature_names = np.array(feature_names)\n",
        "  print(feature_names[top_coefficients])\n",
        "  plt.xticks(np.arange(1, 1 + 2 * top_features), feature_names[top_coefficients], rotation=60, ha='right')\n",
        "  plt.show()"
      ],
      "execution_count": 32,
      "outputs": []
    },
    {
      "cell_type": "code",
      "metadata": {
        "colab": {
          "base_uri": "https://localhost:8080/",
          "height": 726
        },
        "id": "gTVnuY2_tChr",
        "outputId": "dad779bd-d09c-47b7-961f-d9474c219110"
      },
      "source": [
        "clf = Pipeline([\n",
        "    ('vect', CountVectorizer(ngram_range=(1,3), analyzer='word', max_features=200, tokenizer=tokenizer)),\n",
        "    ('tfidf', TfidfTransformer(sublinear_tf=True)),\n",
        "    ('clf', LinearSVC( random_state=42)   ),\n",
        "    ])\n",
        "clf.fit(X_train, y_train)\n",
        "plot_coefficients(clf['clf'], clf['vect'].get_feature_names() )"
      ],
      "execution_count": 33,
      "outputs": [
        {
          "output_type": "stream",
          "text": [
            "['и' 'мы' 'я' 'сказал' 'во время' 'будет' '1' 'но' 'в' 'уже' 'лет' 'на'\n",
            " 'не' 'страны' 'бы' 'из' 'будут' 'по словам' 'территории' 'у' 'около'\n",
            " 'июня' 'сентября' 'февраля' 'отметил' 'октября' 'сообщалось' 'декабря'\n",
            " '2011' 'июля' 'процентов' 'апреля' 'еще' 'об этом' 'риа' 'пишет' 'ноября'\n",
            " 'ее' '—' 'сообщает']\n"
          ],
          "name": "stdout"
        },
        {
          "output_type": "display_data",
          "data": {
            "image/png": "[encoded data removed]",
            "text/plain": [
              "<Figure size 1800x720 with 1 Axes>"
            ]
          },
          "metadata": {
            "tags": [],
            "needs_background": "light"
          }
        }
      ]
    },
    {
      "cell_type": "code",
      "metadata": {
        "id": "e7Nhw6Cj2qmj"
      },
      "source": [
        ""
      ],
      "execution_count": null,
      "outputs": []
    },
    {
      "cell_type": "code",
      "metadata": {
        "colab": {
          "base_uri": "https://localhost:8080/",
          "height": 35
        },
        "id": "VVdIy56Z2k4h",
        "outputId": "a06dcc26-3a83-4b21-c008-a5a98febf015"
      },
      "source": [
        "clf.predict(['''Я заметил, что многие «настоящие» американцы, которых они узнают по публичной деятельности, или те, с которыми имеют дело, которые относятся к «обычным» гражданам США и т.д. ужасно кривят лицом. И вот они чувствуют, что что-то не так, что-то не так, они интуитивно понимают, что что-то не так (и начинают думать, «что», в общем-то, подсознательно). И «в свете последних событий» они начинают приводить в пример настоящий «большинства» граждан США.'''])[0]"
      ],
      "execution_count": 35,
      "outputs": [
        {
          "output_type": "execute_result",
          "data": {
            "application/vnd.google.colaboratory.intrinsic+json": {
              "type": "string"
            },
            "text/plain": [
              "'fake'"
            ]
          },
          "metadata": {
            "tags": []
          },
          "execution_count": 35
        }
      ]
    },
    {
      "cell_type": "code",
      "metadata": {
        "colab": {
          "base_uri": "https://localhost:8080/",
          "height": 35
        },
        "id": "s542zVDY6eCr",
        "outputId": "00b0fb8c-eb75-47ae-bb41-f1a80a8bc4be"
      },
      "source": [
        "clf.predict(['''В России две беды - дураки и дороги.\n",
        "Эту новость на днях разместил в своем инстаграме редактор издания The New Yorker Дэвид Фрэзер. В статье подробно рассказывается о России, которая является лидером по количеству аварий в мире, и главными причинами которых становятся неисправные дороги, а также об особых проблемах с точки зрения перевозок через страну.\n",
        "\n",
        "Фрэзер объясняет, что Москва и ее жители привыкли воспринимать свою столицу как средоточие благополучия и процветания. Эта причина является одной из главных проблем, с которой он столкнулся, когда был репортером в 2017 году. Он заявил, что русские убеждены в том, что страна находится в центре величайшего в мире богатства, однако это не так.\n",
        "\n",
        "\"Я был в Москве как гость и журналист в последние несколько месяцев. Это ад\", - заявил Фрэзер. По его словам, россияне, проживающие в других регионах страны, не имеют такого же представления о Москве как он.\n",
        "\n",
        "Он также отметил, что путешественники, которые не были в столице, не смогут это почувствовать. \"Россияне хотят видеть дворец Путина, и если он находится в Подмосковье, он не сильно отличается от того, что находится в Чечне. Просто, в отличие от Чечни, он выглядит иначе\", - объяснил журналист.\n",
        "\n",
        "Также он добавил, что не смог распознать масштабы коррупции в России. \"Я не встречал ни одного российского чиновника, который был бы бедным. Однако я не смог обнаружить, чтобы кто-то сидел за коррупцию\", - сказал Фрэзер.\n",
        "'''])[0]"
      ],
      "execution_count": 36,
      "outputs": [
        {
          "output_type": "execute_result",
          "data": {
            "application/vnd.google.colaboratory.intrinsic+json": {
              "type": "string"
            },
            "text/plain": [
              "'true'"
            ]
          },
          "metadata": {
            "tags": []
          },
          "execution_count": 36
        }
      ]
    }
  ]
}